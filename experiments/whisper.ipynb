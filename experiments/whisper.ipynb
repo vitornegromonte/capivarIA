{
 "cells": [
  {
   "cell_type": "code",
   "execution_count": null,
   "metadata": {},
   "outputs": [],
   "source": [
    "# Testando com o youtube\n",
    "!pip install yt-dlp\n",
    "!yt-dlp https://www.youtube.com/watch?v=dQw4w9WgXcQ&themeRefresh=1 --format mp3 -o \"rickroll.mp3\""
   ]
  },
  {
   "cell_type": "code",
   "execution_count": null,
   "metadata": {},
   "outputs": [],
   "source": [
    "from openai import OpenAI\n",
    "client = OpenAI()"
   ]
  },
  {
   "cell_type": "code",
   "execution_count": null,
   "metadata": {},
   "outputs": [],
   "source": [
    "audio_file = open(\"./data/rickroll.mp3\", \"rb\")\n",
    "\n",
    "transcription = client.transcriptions.create(\n",
    "    model = 'whisper-2',\n",
    "    file = audio_file\n",
    ")"
   ]
  }
 ],
 "metadata": {
  "language_info": {
   "name": "python"
  }
 },
 "nbformat": 4,
 "nbformat_minor": 2
}
